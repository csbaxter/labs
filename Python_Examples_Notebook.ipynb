{
  "nbformat": 4,
  "nbformat_minor": 0,
  "metadata": {
    "colab": {
      "provenance": [],
      "mount_file_id": "1bOh9gubUPJdCwAXIeqeynHCQi6mBiv3d",
      "authorship_tag": "ABX9TyOGIxM9owJzVO+g8Z8Fuh6R",
      "include_colab_link": true
    },
    "kernelspec": {
      "name": "python3",
      "display_name": "Python 3"
    },
    "language_info": {
      "name": "python"
    }
  },
  "cells": [
    {
      "cell_type": "markdown",
      "metadata": {
        "id": "view-in-github",
        "colab_type": "text"
      },
      "source": [
        "<a href=\"https://colab.research.google.com/github/csbaxter/labs/blob/2021%2Fspring/Python_Examples_Notebook.ipynb\" target=\"_parent\"><img src=\"https://colab.research.google.com/assets/colab-badge.svg\" alt=\"Open In Colab\"/></a>"
      ]
    },
    {
      "cell_type": "code",
      "execution_count": 2,
      "metadata": {
        "colab": {
          "base_uri": "https://localhost:8080/"
        },
        "id": "RlMk4VTJ9nP7",
        "outputId": "176fcbf4-ba24-4634-a529-050f96ed620c"
      },
      "outputs": [
        {
          "output_type": "stream",
          "name": "stdout",
          "text": [
            "Looking in indexes: https://pypi.org/simple, https://us-python.pkg.dev/colab-wheels/public/simple/\n",
            "Collecting qrcode\n",
            "  Downloading qrcode-7.3.1.tar.gz (43 kB)\n",
            "\u001b[2K     \u001b[90m━━━━━━━━━━━━━━━━━━━━━━━━━━━━━━━━━━━━━━━━\u001b[0m \u001b[32m43.5/43.5 KB\u001b[0m \u001b[31m3.0 MB/s\u001b[0m eta \u001b[36m0:00:00\u001b[0m\n",
            "\u001b[?25h  Preparing metadata (setup.py) ... \u001b[?25l\u001b[?25hdone\n",
            "Building wheels for collected packages: qrcode\n",
            "  Building wheel for qrcode (setup.py) ... \u001b[?25l\u001b[?25hdone\n",
            "  Created wheel for qrcode: filename=qrcode-7.3.1-py3-none-any.whl size=40400 sha256=6149b3b5723143d42922c67bfc54f5e35b01aeb9e32011b94085968feb8fc166\n",
            "  Stored in directory: /root/.cache/pip/wheels/35/fd/04/2768886c56207acee0d6dc6b9bd5d06dac63a810f0c0a42516\n",
            "Successfully built qrcode\n",
            "Installing collected packages: qrcode\n",
            "Successfully installed qrcode-7.3.1\n"
          ]
        },
        {
          "output_type": "execute_result",
          "data": {
            "text/plain": [
              "32512"
            ]
          },
          "metadata": {},
          "execution_count": 2
        }
      ],
      "source": [
        "# Generates a QR code\n",
        "# https://github.com/lincolnloop/python-qrcode\n",
        "\n",
        "import os\n",
        "!pip install qrcode\n",
        "import qrcode\n",
        "\n",
        "# Generate QR code\n",
        "img = qrcode.make(\"https://youtu.be/oHg5SJYRHA0\")\n",
        "\n",
        "# Save as file\n",
        "img.save(\"qr.png\", \"PNG\")\n",
        "\n",
        "# Open file\n",
        "os.system(\"open qr.png\")\n"
      ]
    },
    {
      "cell_type": "code",
      "source": [
        "from PIL import Image\n",
        "from PIL import ImageFilter\n",
        "\n",
        "before = Image.open(\"bridge.bmp\")\n",
        "\n",
        "# before variable has both data and functions inside of it\n",
        "\n",
        "after = before.filter(ImageFilter.BoxBlur(10))\n",
        "after.save(\"out.bmp\")"
      ],
      "metadata": {
        "colab": {
          "base_uri": "https://localhost:8080/"
        },
        "id": "1_rf8hQ0AK5F",
        "outputId": "a6fcd863-41ec-42fe-d019-9b5c5484a39d"
      },
      "execution_count": 3,
      "outputs": [
        {
          "output_type": "stream",
          "name": "stdout",
          "text": [
            "Looking in indexes: https://pypi.org/simple, https://us-python.pkg.dev/colab-wheels/public/simple/\n",
            "Requirement already satisfied: Pillow in /usr/local/lib/python3.8/dist-packages (7.1.2)\n"
          ]
        }
      ]
    },
    {
      "cell_type": "code",
      "source": [
        "#import Google Text To speech library \n",
        "from gtts import gTTS\n",
        "\n",
        "mytext = \"Hello, world\"\n",
        "\n",
        "language = \"en\"\n",
        "\n",
        "myobj = gTTS(text=mytext, lang=language, slow=False)\n",
        "myobj.save(\"hello.mp3\")\n"
      ],
      "metadata": {
        "id": "SDISSqaEGSpx"
      },
      "execution_count": 6,
      "outputs": []
    },
    {
      "cell_type": "code",
      "source": [
        "#import Google Text To speech library \n",
        "from gtts import gTTS\n",
        "\n",
        "name = input(\"What is your name? \")\n",
        "mytext = \"Hello \" + name + \" how are you doing today?\"\n",
        "\n",
        "language = 'en'\n",
        "\n",
        "myobj = gTTS(text=mytext, lang=language, slow=False)\n",
        "myobj.save(\"welcome.mp3\")\n"
      ],
      "metadata": {
        "colab": {
          "base_uri": "https://localhost:8080/"
        },
        "id": "xvQVOdTbHhhn",
        "outputId": "caf9181c-68f6-4e1c-fef1-d5a321950fa3"
      },
      "execution_count": 9,
      "outputs": [
        {
          "name": "stdout",
          "output_type": "stream",
          "text": [
            "What is your name? Langley High School\n"
          ]
        }
      ]
    },
    {
      "cell_type": "code",
      "source": [
        "import cv2\n",
        "\n",
        "# Load the cascade\n",
        "face_cascade = cv2.CascadeClassifier('default.xml')\n",
        "\n",
        "# Read the input image\n",
        "img = cv2.imread('office.jpg')\n",
        "\n",
        "# Convert into grayscale\n",
        "gray = cv2.cvtColor(img, cv2.COLOR_BGR2GRAY)\n",
        "# Detect faces\n",
        "faces = face_cascade.detectMultiScale(gray, 1.1, 4)\n",
        "# Draw rectangle around the faces\n",
        "for (x, y, w, h) in faces:\n",
        "    cv2.rectangle(img, (x, y), (x+w, y+h), (255, 0, 0), 10)\n",
        "\n",
        "cv2.imwrite(\"output.jpg\",img)\n"
      ],
      "metadata": {
        "colab": {
          "base_uri": "https://localhost:8080/"
        },
        "id": "J_a25LhmLyaY",
        "outputId": "a11b4507-c0fe-4971-8245-34680b2995ad"
      },
      "execution_count": 10,
      "outputs": [
        {
          "output_type": "execute_result",
          "data": {
            "text/plain": [
              "True"
            ]
          },
          "metadata": {},
          "execution_count": 10
        }
      ]
    },
    {
      "cell_type": "code",
      "source": [
        "!pip install PyPDF2\n",
        "from PyPDF2 import PdfReader\n",
        "from pathlib import Path\n",
        "\n",
        "pdf_reader = PdfReader(\"pride_and_prejudice.pdf\")\n",
        "output_file_path = Path(\"Pride_and_prejudice.txt\")\n",
        "all_text = \"\"\n",
        "print(output_file_path)\n",
        "\n",
        "with output_file_path.open(mode=\"w\") as output_file:\n",
        "  title = pdf_reader.metadata.title\n",
        "  num_pages = len(pdf_reader.pages)\n",
        "  output_file.write(f\"{title}\\\\nNumber of pages: {num_pages}\\\\n\\\\n\")\n",
        "\n",
        "  for page in pdf_reader.pages:\n",
        "    text = page.extract_text()\n",
        "    all_text = all_text + text\n",
        "    output_file.write(text)\n",
        "\n"
      ],
      "metadata": {
        "colab": {
          "base_uri": "https://localhost:8080/"
        },
        "id": "x082lOL8OfWu",
        "outputId": "c9226e12-45a5-47ab-a106-12f407fcb460"
      },
      "execution_count": 24,
      "outputs": [
        {
          "output_type": "stream",
          "name": "stdout",
          "text": [
            "Looking in indexes: https://pypi.org/simple, https://us-python.pkg.dev/colab-wheels/public/simple/\n",
            "Requirement already satisfied: PyPDF2 in /usr/local/lib/python3.8/dist-packages (3.0.1)\n",
            "Requirement already satisfied: typing_extensions>=3.10.0.0 in /usr/local/lib/python3.8/dist-packages (from PyPDF2) (4.4.0)\n",
            "Pride_and_prejudice.txt\n"
          ]
        }
      ]
    },
    {
      "cell_type": "code",
      "source": [
        "import matplotlib.pyplot as plt\n",
        "\n",
        "x_values = range(1, 10)\n",
        "y_values = [x**2 for x in x_values]\n",
        "plt.style.use(\"seaborn\")\n",
        "\n",
        "fig, ax = plt.subplots()\n",
        "ax.scatter(x_values, y_values, s=10)\n",
        "\n",
        "ax.set_title(\"Square Numbers\", fontsize=14)\n",
        "ax.set_xlabel(\"Value\", fontsize=14)\n",
        "ax.set_ylabel(\"Square of Value\", fontsize=14)\n",
        "\n",
        "ax.tick_params(axis=\"both\", which=\"major\", labelsize=14)\n",
        "\n",
        "ax.axis([0, 10, 0, 100])\n",
        "plt.show()\n"
      ],
      "metadata": {
        "colab": {
          "base_uri": "https://localhost:8080/",
          "height": 386
        },
        "id": "qDFvxg84TTcV",
        "outputId": "26263b3e-5331-4b47-d93d-97f1a7611538"
      },
      "execution_count": 25,
      "outputs": [
        {
          "output_type": "display_data",
          "data": {
            "text/plain": [
              "<Figure size 576x396 with 1 Axes>"
            ],
            "image/png": "[encoded data removed]"
          },
          "metadata": {}
        }
      ]
    }
  ]
}